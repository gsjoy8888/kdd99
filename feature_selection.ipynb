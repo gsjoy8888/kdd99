{
 "cells": [
  {
   "cell_type": "code",
   "execution_count": 1,
   "metadata": {},
   "outputs": [],
   "source": [
    "import numpy as np\n",
    "import pandas as pd"
   ]
  },
  {
   "cell_type": "code",
   "execution_count": 6,
   "metadata": {},
   "outputs": [],
   "source": [
    "#读取训练数据\n",
    "train_data = pd.read_csv(\"kddcup_train_data\", header=None)"
   ]
  },
  {
   "cell_type": "code",
   "execution_count": 21,
   "metadata": {},
   "outputs": [],
   "source": [
    "#将三个特征为单词的列转换为数字(1,2,3,4,5,6....)，这里不能做onehot，不然列数会变多，后面没有办法知道选择了哪十个特征\n",
    "train_data[1], protocol_type = pd.factorize(train_data[1])\n",
    "train_data[2], service = pd.factorize(train_data[2])\n",
    "train_data[3], flag    = pd.factorize(train_data[3])"
   ]
  },
  {
   "cell_type": "code",
   "execution_count": 22,
   "metadata": {},
   "outputs": [],
   "source": [
    "#定义数据每一列的列名\n",
    "col_names = [\"duration\",\"protocol_type\",\"service\",\"flag\",\"src_bytes\",\"dst_bytes\",\"land\",\"wrong_fragment\",\n",
    "             \"urgent\",\"hot\",\"num_failed_logins\",\"logged_in\",\"num_compromised\",\n",
    "             \"root_shell\",\"su_attempted\",\"num_root\",\"num_file_creations\",\n",
    "             \"num_shells\",\"num_access_files\",\"num_outbound_cmds\",\n",
    "             \"is_hot_login\",\"is_guest_login\",\"count\",\"srv_count\",\"serror_rate\",\n",
    "             \"srv_serror_rate\",\"rerror_rate\",\"srv_rerror_rate\",\"same_srv_rate\",\n",
    "             \"diff_srv_rate\",\"srv_diff_host_rate\",\"dst_host_count\",\"dst_host_srv_count\",\n",
    "             \"dst_host_same_srv_rate\",\"dst_host_diff_srv_rate\",\"dst_host_same_src_port_rate\",\n",
    "             \"dst_host_srv_diff_host_rate\",\"dst_host_serror_rate\",\"dst_host_srv_serror_rate\",\n",
    "             \"dst_host_rerror_rate\",\"dst_host_srv_rerror_rate\",\"target\"]"
   ]
  },
  {
   "cell_type": "code",
   "execution_count": 23,
   "metadata": {},
   "outputs": [],
   "source": [
    "#添加列名\n",
    "train_data.columns = col_names"
   ]
  },
  {
   "cell_type": "code",
   "execution_count": 24,
   "metadata": {},
   "outputs": [],
   "source": [
    "#把训练数据拆分为: 训练数据特征（x_train）训练数据标签（y_train\n",
    "x_train = train_data.iloc[:,:train_data.shape[1]-1]\n",
    "y_train = train_data.iloc[:,train_data.shape[1]-1:]"
   ]
  },
  {
   "cell_type": "code",
   "execution_count": 25,
   "metadata": {},
   "outputs": [
    {
     "name": "stdout",
     "output_type": "stream",
     "text": [
      "training completed, using time  9.03 seconds\n",
      "rfe completed, using time 284.99 seconds\n",
      "Num Features: 10\n",
      "Selected Features: [False  True False  True  True False False False False False False False\n",
      " False False False False False False False False False False  True  True\n",
      " False False False False  True  True False False  True  True False  True\n",
      " False False False False False]\n",
      "Feature Ranking: [19  1  3  1  1  2 29 13 28  6 22 14  9 24 30 23 25 27 26 31 32 21  1  1\n",
      "  8 11 16 20  1  1 18  5  1  1  7  1  4 10 17 15 12]\n"
     ]
    }
   ],
   "source": [
    "import time\n",
    "from sklearn.ensemble import RandomForestClassifier\n",
    "from sklearn.feature_selection import RFE\n",
    "\n",
    "\n",
    "clf= RandomForestClassifier(n_jobs=-1, random_state=3, n_estimators=102)\n",
    "time_start = time.time()\n",
    "model_random_forest = clf.fit(x_train, y_train.values.ravel())\n",
    "print(\"training completed, using time %5.2f seconds\" % (time.time()-time_start))\n",
    "\n",
    "time_start = time.time()\n",
    "rfe = RFE(model_random_forest, 10)\n",
    "fit = rfe.fit(x_train, y_train.values.ravel())\n",
    "print(\"rfe completed, using time %5.2f seconds\" % (time.time()-time_start))\n",
    "print(\"Num Features: %s\" % (fit.n_features_))\n",
    "print(\"Selected Features: %s\" % (fit.support_))\n",
    "print(\"Feature Ranking: %s\" % (fit.ranking_))"
   ]
  },
  {
   "cell_type": "code",
   "execution_count": null,
   "metadata": {},
   "outputs": [],
   "source": [
    "1 3 4 22 23 28 29 30 31 32"
   ]
  }
 ],
 "metadata": {
  "kernelspec": {
   "display_name": "conda_pytorch_p27",
   "language": "python",
   "name": "conda_pytorch_p27"
  },
  "language_info": {
   "codemirror_mode": {
    "name": "ipython",
    "version": 2
   },
   "file_extension": ".py",
   "mimetype": "text/x-python",
   "name": "python",
   "nbconvert_exporter": "python",
   "pygments_lexer": "ipython2",
   "version": "2.7.15"
  }
 },
 "nbformat": 4,
 "nbformat_minor": 4
}
